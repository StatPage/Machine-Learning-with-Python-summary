{
 "cells": [
  {
   "cell_type": "markdown",
   "metadata": {},
   "source": [
    "# 목차\n",
    "- __DatetimeIndex__\n",
    "- __Shift연산__\n",
    "- __resample연산__\n",
    "- __dt접근자__"
   ]
  },
  {
   "cell_type": "markdown",
   "metadata": {},
   "source": [
    "# DatetimeIndex 인덱스"
   ]
  },
  {
   "cell_type": "markdown",
   "metadata": {},
   "source": [
    "시계열 자료는 인덱스가 날짜 혹은 시간이다. 인덱스를 DatetimeIndex로 만들면 시계열 자료가 생성된다. DatetimeIndex는 특정 순간에 기록된 타임스탬프 형식의 시게열 자료를 다루기 위한 인덱스.\n",
    "\n",
    "DatetimeIndex 인덱스에 있는 보조 함수\n",
    "- pd.to_datetime 함수: 날짜/시간을 나타내는 문자열을 자동으로 datetime 자료형으로 바꾼다.\n",
    "- pd.date_range 함수: 모든 날짜와 시간을 일일히 입력할 필요없이 시작일과 종료일 또는 시작일과 기간을 입력해서 범위 내의 인덱스를 생성."
   ]
  },
  {
   "cell_type": "code",
   "execution_count": 2,
   "metadata": {},
   "outputs": [],
   "source": [
    "import pandas as pd\n",
    "import numpy as np"
   ]
  },
  {
   "cell_type": "code",
   "execution_count": 3,
   "metadata": {
    "scrolled": true
   },
   "outputs": [
    {
     "data": {
      "text/plain": [
       "DatetimeIndex(['2018-01-01', '2018-01-04', '2018-01-05', '2018-01-06'], dtype='datetime64[ns]', freq=None)"
      ]
     },
     "execution_count": 3,
     "metadata": {},
     "output_type": "execute_result"
    }
   ],
   "source": [
    "date_str = [\"2018, 1, 1\", \"2018, 1, 4\", \"2018, 1, 5\", \"2018, 1, 6\"]\n",
    "idx = pd.to_datetime(date_str)\n",
    "idx"
   ]
  },
  {
   "cell_type": "code",
   "execution_count": 8,
   "metadata": {
    "scrolled": true
   },
   "outputs": [
    {
     "data": {
      "text/plain": [
       "2018-01-01    1.764052\n",
       "2018-01-04    0.400157\n",
       "2018-01-05    0.978738\n",
       "2018-01-06    2.240893\n",
       "dtype: float64"
      ]
     },
     "execution_count": 8,
     "metadata": {},
     "output_type": "execute_result"
    }
   ],
   "source": [
    "np.random.seed(0)\n",
    "record = pd.Series(np.random.randn(4), index=idx)\n",
    "record"
   ]
  },
  {
   "cell_type": "code",
   "execution_count": 10,
   "metadata": {
    "scrolled": true
   },
   "outputs": [
    {
     "data": {
      "text/plain": [
       "DatetimeIndex(['2010-01-01', '2010-01-02', '2010-01-03', '2010-01-04',\n",
       "               '2010-01-05', '2010-01-06', '2010-01-07', '2010-01-08',\n",
       "               '2010-01-09', '2010-01-10',\n",
       "               ...\n",
       "               '2010-04-21', '2010-04-22', '2010-04-23', '2010-04-24',\n",
       "               '2010-04-25', '2010-04-26', '2010-04-27', '2010-04-28',\n",
       "               '2010-04-29', '2010-04-30'],\n",
       "              dtype='datetime64[ns]', length=120, freq='D')"
      ]
     },
     "execution_count": 10,
     "metadata": {},
     "output_type": "execute_result"
    }
   ],
   "source": [
    "pd.date_range(start=\"2010-1-1\", periods=120)"
   ]
  },
  {
   "cell_type": "markdown",
   "metadata": {},
   "source": [
    "freq 인수로 특정한 날짜만 생성되도록 할 수도 있다. 많이 사용되는 freq 인수값은 다음과 같다."
   ]
  },
  {
   "cell_type": "markdown",
   "metadata": {},
   "source": [
    "- s: 초\n",
    "- T: 분\n",
    "- H: 시간\n",
    "- D: 일(day)\n",
    "- B: 주말이 아닌 평일\n",
    "- W: 주(일요일)\n",
    "- W-MON: 주(월요일)\n",
    "- M: 각 달(month)의 마지막 날\n",
    "- MS: 각 달의 첫날\n",
    "- BM: 주말이 아닌 평일 중에서 각 달의 마지막 날\n",
    "- BMS: 주말이 아닌 평일 중에서 각 달의 첫날\n",
    "- WOM-2THU: 각 달의 두번째 목요일\n",
    "- Q-JAN: 각 분기의 첫달의 마지막 날\n",
    "- Q-DEC: 각 분기의 마지막 달의 마지막 날"
   ]
  },
  {
   "cell_type": "code",
   "execution_count": 11,
   "metadata": {
    "scrolled": true
   },
   "outputs": [
    {
     "data": {
      "text/plain": [
       "DatetimeIndex(['2018-04-02', '2018-04-03', '2018-04-04', '2018-04-05',\n",
       "               '2018-04-06', '2018-04-09', '2018-04-10', '2018-04-11',\n",
       "               '2018-04-12', '2018-04-13', '2018-04-16', '2018-04-17',\n",
       "               '2018-04-18', '2018-04-19', '2018-04-20', '2018-04-23',\n",
       "               '2018-04-24', '2018-04-25', '2018-04-26', '2018-04-27',\n",
       "               '2018-04-30'],\n",
       "              dtype='datetime64[ns]', freq='B')"
      ]
     },
     "execution_count": 11,
     "metadata": {},
     "output_type": "execute_result"
    }
   ],
   "source": [
    "pd.date_range(\"2018-4-1\", \"2018-4-30\", freq=\"B\")"
   ]
  },
  {
   "cell_type": "code",
   "execution_count": 12,
   "metadata": {},
   "outputs": [
    {
     "data": {
      "text/plain": [
       "DatetimeIndex(['2018-04-30', '2018-05-31', '2018-06-30', '2018-07-31',\n",
       "               '2018-08-31', '2018-09-30', '2018-10-31', '2018-11-30',\n",
       "               '2018-12-31'],\n",
       "              dtype='datetime64[ns]', freq='M')"
      ]
     },
     "execution_count": 12,
     "metadata": {},
     "output_type": "execute_result"
    }
   ],
   "source": [
    "pd.date_range(\"2018-4-1\", \"2018-12-31\", freq=\"M\")"
   ]
  },
  {
   "cell_type": "code",
   "execution_count": 13,
   "metadata": {
    "scrolled": true
   },
   "outputs": [
    {
     "data": {
      "text/plain": [
       "DatetimeIndex(['2018-03-31', '2018-06-30', '2018-09-30', '2018-12-31'], dtype='datetime64[ns]', freq='Q-DEC')"
      ]
     },
     "execution_count": 13,
     "metadata": {},
     "output_type": "execute_result"
    }
   ],
   "source": [
    "pd.date_range(\"2018-1-1\", \"2018-12-31\", freq=\"Q-DEC\")"
   ]
  },
  {
   "cell_type": "markdown",
   "metadata": {},
   "source": [
    "# shift 연산\n",
    "- shift 연산을 사용하면 인덱스는 그대로 두고 데이터만 이동할 수도 있다."
   ]
  },
  {
   "cell_type": "code",
   "execution_count": 3,
   "metadata": {
    "scrolled": true
   },
   "outputs": [
    {
     "data": {
      "text/plain": [
       "2018-01-31    1.764052\n",
       "2018-02-28    0.400157\n",
       "2018-03-31    0.978738\n",
       "2018-04-30    2.240893\n",
       "Freq: M, dtype: float64"
      ]
     },
     "execution_count": 3,
     "metadata": {},
     "output_type": "execute_result"
    }
   ],
   "source": [
    "np.random.seed(0)\n",
    "ts = pd.Series(np.random.randn(4), index=pd.date_range(\"2018-1-1\", periods=4, freq=\"M\"))\n",
    "ts"
   ]
  },
  {
   "cell_type": "code",
   "execution_count": 4,
   "metadata": {
    "scrolled": true
   },
   "outputs": [
    {
     "data": {
      "text/plain": [
       "2018-01-31         NaN\n",
       "2018-02-28         NaN\n",
       "2018-03-31    1.764052\n",
       "2018-04-30    0.400157\n",
       "Freq: M, dtype: float64"
      ]
     },
     "execution_count": 4,
     "metadata": {},
     "output_type": "execute_result"
    }
   ],
   "source": [
    "ts.shift(2)"
   ]
  },
  {
   "cell_type": "code",
   "execution_count": 8,
   "metadata": {
    "scrolled": true
   },
   "outputs": [
    {
     "data": {
      "text/plain": [
       "2018-01-31    0.400157\n",
       "2018-02-28    0.978738\n",
       "2018-03-31    2.240893\n",
       "2018-04-30         NaN\n",
       "Freq: M, dtype: float64"
      ]
     },
     "execution_count": 8,
     "metadata": {},
     "output_type": "execute_result"
    }
   ],
   "source": [
    "ts.shift(-1)"
   ]
  },
  {
   "cell_type": "code",
   "execution_count": 7,
   "metadata": {
    "scrolled": true
   },
   "outputs": [
    {
     "name": "stdout",
     "output_type": "stream",
     "text": [
      "2018-01-31    1.764052\n",
      "2018-02-28    0.400157\n",
      "2018-03-31    0.978738\n",
      "2018-04-30    2.240893\n",
      "Freq: M, dtype: float64\n"
     ]
    }
   ],
   "source": [
    "print(ts)"
   ]
  },
  {
   "cell_type": "markdown",
   "metadata": {},
   "source": [
    "ts 자체는 변화하지 않는 것을 확인할 수 있다."
   ]
  },
  {
   "cell_type": "code",
   "execution_count": 9,
   "metadata": {
    "scrolled": true
   },
   "outputs": [
    {
     "data": {
      "text/plain": [
       "2018-02-01    1.764052\n",
       "2018-03-01    0.400157\n",
       "2018-04-01    0.978738\n",
       "2018-05-01    2.240893\n",
       "Freq: MS, dtype: float64"
      ]
     },
     "execution_count": 9,
     "metadata": {},
     "output_type": "execute_result"
    }
   ],
   "source": [
    "ts.shift(1, freq='D')"
   ]
  },
  {
   "cell_type": "markdown",
   "metadata": {},
   "source": [
    "하루씩 미뤄 매월 1일이 된 것을 확인할 수 있다."
   ]
  },
  {
   "cell_type": "markdown",
   "metadata": {},
   "source": [
    "# resample 연산"
   ]
  },
  {
   "cell_type": "markdown",
   "metadata": {},
   "source": [
    "resample 연산을 쓰면 시간 간격을 재조정하는 리샘플링(resampling)이 가능하다. 시간 구간이 작아지면 데이터 양이 증가(업-샘플링), 시간 구간이 커지면 데이터 양이 감소(다운-샘플링)"
   ]
  },
  {
   "cell_type": "code",
   "execution_count": 10,
   "metadata": {
    "scrolled": true
   },
   "outputs": [
    {
     "data": {
      "text/plain": [
       "2021-04-01    0.356366\n",
       "2021-04-02    0.706573\n",
       "2021-04-03    0.010500\n",
       "2021-04-04    1.785870\n",
       "2021-04-05    0.126912\n",
       "2021-04-06    0.401989\n",
       "2021-04-07    1.883151\n",
       "2021-04-08   -1.347759\n",
       "2021-04-09   -1.270485\n",
       "2021-04-10    0.969397\n",
       "Freq: D, dtype: float64"
      ]
     },
     "execution_count": 10,
     "metadata": {},
     "output_type": "execute_result"
    }
   ],
   "source": [
    "ts = pd.Series(np.random.randn(100), index=pd.date_range(\n",
    "    \"2021-1-1\", periods=100, freq=\"D\"))\n",
    "ts.tail(10)"
   ]
  },
  {
   "cell_type": "code",
   "execution_count": 19,
   "metadata": {
    "scrolled": true
   },
   "outputs": [
    {
     "data": {
      "text/plain": [
       "2021-01-01    1.867558\n",
       "2021-01-02   -0.977278\n",
       "2021-01-03    0.950088\n",
       "2021-01-04   -0.151357\n",
       "2021-01-05   -0.103219\n",
       "                ...   \n",
       "2021-04-06    0.401989\n",
       "2021-04-07    1.883151\n",
       "2021-04-08   -1.347759\n",
       "2021-04-09   -1.270485\n",
       "2021-04-10    0.969397\n",
       "Freq: D, Length: 100, dtype: float64"
      ]
     },
     "execution_count": 19,
     "metadata": {},
     "output_type": "execute_result"
    }
   ],
   "source": [
    "ts.resample('D').first()"
   ]
  },
  {
   "cell_type": "markdown",
   "metadata": {},
   "source": [
    "## Down-Sampling"
   ]
  },
  {
   "cell_type": "markdown",
   "metadata": {},
   "source": [
    "다운-샘플링의 경우에는 원래의 데이터가 그룹으로 묶이기 때문에 그룹바이(groupby)때와 같이 그룹 연산을 해서 대표값을 구해야 한다."
   ]
  },
  {
   "cell_type": "code",
   "execution_count": 20,
   "metadata": {
    "scrolled": true
   },
   "outputs": [
    {
     "data": {
      "text/plain": [
       "2021-01-03    1.840369\n",
       "2021-01-10    2.637052\n",
       "2021-01-17   -1.027559\n",
       "2021-01-24    1.449853\n",
       "2021-01-31    0.318754\n",
       "2021-02-07   -0.569181\n",
       "2021-02-14   -2.792424\n",
       "2021-02-21   -2.012592\n",
       "2021-02-28   -2.473234\n",
       "2021-03-07   -3.973406\n",
       "2021-03-14   -0.390617\n",
       "2021-03-21   -2.169141\n",
       "2021-03-28    3.963518\n",
       "2021-04-04    5.266669\n",
       "2021-04-11    0.763205\n",
       "Freq: W-SUN, dtype: float64"
      ]
     },
     "execution_count": 20,
     "metadata": {},
     "output_type": "execute_result"
    }
   ],
   "source": [
    "ts.resample('W').sum()"
   ]
  },
  {
   "cell_type": "markdown",
   "metadata": {},
   "source": [
    "날짜가 아닌 시/분 단위에서는 구간위 왼쪽 한계값(가장 빠른 값)은 포함하고 오른쪽 한계값(가장 늦은 값)은 포함하지 않는다. 즉, 가장 늦은 값은 다음 구간에 포함된다.  \n",
    "(왼쪽이 아니라 오른쪽 한계값을 구간에 포함하려면 closed=\"right\" 인수를 사용)"
   ]
  },
  {
   "cell_type": "code",
   "execution_count": 21,
   "metadata": {
    "scrolled": true
   },
   "outputs": [
    {
     "data": {
      "text/plain": [
       "2018-01-01 00:00:00   -1.173123\n",
       "2018-01-01 00:01:00    1.943621\n",
       "2018-01-01 00:02:00   -0.413619\n",
       "2018-01-01 00:03:00   -0.747455\n",
       "2018-01-01 00:04:00    1.922942\n",
       "2018-01-01 00:05:00    1.480515\n",
       "2018-01-01 00:06:00    1.867559\n",
       "2018-01-01 00:07:00    0.906045\n",
       "2018-01-01 00:08:00   -0.861226\n",
       "2018-01-01 00:09:00    1.910065\n",
       "2018-01-01 00:10:00   -0.268003\n",
       "2018-01-01 00:11:00    0.802456\n",
       "2018-01-01 00:12:00    0.947252\n",
       "2018-01-01 00:13:00   -0.155010\n",
       "2018-01-01 00:14:00    0.614079\n",
       "2018-01-01 00:15:00    0.922207\n",
       "2018-01-01 00:16:00    0.376426\n",
       "2018-01-01 00:17:00   -1.099401\n",
       "2018-01-01 00:18:00    0.298238\n",
       "2018-01-01 00:19:00    1.326386\n",
       "Freq: T, dtype: float64"
      ]
     },
     "execution_count": 21,
     "metadata": {},
     "output_type": "execute_result"
    }
   ],
   "source": [
    "ts = pd.Series(np.random.randn(60), index=pd.date_range(\n",
    "    \"2018-1-1\", periods=60, freq=\"T\"))\n",
    "ts.head(20)"
   ]
  },
  {
   "cell_type": "code",
   "execution_count": 22,
   "metadata": {
    "scrolled": true
   },
   "outputs": [
    {
     "data": {
      "text/plain": [
       "2018-01-01 00:00:00    6.835324\n",
       "2018-01-01 00:10:00    3.764630\n",
       "2018-01-01 00:20:00    0.776495\n",
       "2018-01-01 00:30:00   -0.538336\n",
       "2018-01-01 00:40:00    1.828234\n",
       "2018-01-01 00:50:00    0.167957\n",
       "Freq: 10T, dtype: float64"
      ]
     },
     "execution_count": 22,
     "metadata": {},
     "output_type": "execute_result"
    }
   ],
   "source": [
    "ts.resample('10T').sum()"
   ]
  },
  {
   "cell_type": "markdown",
   "metadata": {},
   "source": [
    "ohlc 메서드는 구간의 시고저종(open, high, low, close)값을 구한다."
   ]
  },
  {
   "cell_type": "code",
   "execution_count": 23,
   "metadata": {
    "scrolled": true
   },
   "outputs": [
    {
     "data": {
      "text/html": [
       "<div>\n",
       "<style scoped>\n",
       "    .dataframe tbody tr th:only-of-type {\n",
       "        vertical-align: middle;\n",
       "    }\n",
       "\n",
       "    .dataframe tbody tr th {\n",
       "        vertical-align: top;\n",
       "    }\n",
       "\n",
       "    .dataframe thead th {\n",
       "        text-align: right;\n",
       "    }\n",
       "</style>\n",
       "<table border=\"1\" class=\"dataframe\">\n",
       "  <thead>\n",
       "    <tr style=\"text-align: right;\">\n",
       "      <th></th>\n",
       "      <th>open</th>\n",
       "      <th>high</th>\n",
       "      <th>low</th>\n",
       "      <th>close</th>\n",
       "    </tr>\n",
       "  </thead>\n",
       "  <tbody>\n",
       "    <tr>\n",
       "      <th>2018-01-01 00:00:00</th>\n",
       "      <td>-1.173123</td>\n",
       "      <td>1.943621</td>\n",
       "      <td>-1.173123</td>\n",
       "      <td>1.910065</td>\n",
       "    </tr>\n",
       "    <tr>\n",
       "      <th>2018-01-01 00:10:00</th>\n",
       "      <td>-0.268003</td>\n",
       "      <td>1.326386</td>\n",
       "      <td>-1.099401</td>\n",
       "      <td>1.326386</td>\n",
       "    </tr>\n",
       "    <tr>\n",
       "      <th>2018-01-01 00:20:00</th>\n",
       "      <td>-0.694568</td>\n",
       "      <td>1.849264</td>\n",
       "      <td>-0.769916</td>\n",
       "      <td>0.031831</td>\n",
       "    </tr>\n",
       "    <tr>\n",
       "      <th>2018-01-01 00:30:00</th>\n",
       "      <td>-0.635846</td>\n",
       "      <td>0.676433</td>\n",
       "      <td>-1.491258</td>\n",
       "      <td>0.635031</td>\n",
       "    </tr>\n",
       "    <tr>\n",
       "      <th>2018-01-01 00:40:00</th>\n",
       "      <td>2.383145</td>\n",
       "      <td>2.383145</td>\n",
       "      <td>-1.315907</td>\n",
       "      <td>-0.826439</td>\n",
       "    </tr>\n",
       "    <tr>\n",
       "      <th>2018-01-01 00:50:00</th>\n",
       "      <td>-0.098453</td>\n",
       "      <td>1.929532</td>\n",
       "      <td>-1.147469</td>\n",
       "      <td>0.087551</td>\n",
       "    </tr>\n",
       "  </tbody>\n",
       "</table>\n",
       "</div>"
      ],
      "text/plain": [
       "                         open      high       low     close\n",
       "2018-01-01 00:00:00 -1.173123  1.943621 -1.173123  1.910065\n",
       "2018-01-01 00:10:00 -0.268003  1.326386 -1.099401  1.326386\n",
       "2018-01-01 00:20:00 -0.694568  1.849264 -0.769916  0.031831\n",
       "2018-01-01 00:30:00 -0.635846  0.676433 -1.491258  0.635031\n",
       "2018-01-01 00:40:00  2.383145  2.383145 -1.315907 -0.826439\n",
       "2018-01-01 00:50:00 -0.098453  1.929532 -1.147469  0.087551"
      ]
     },
     "execution_count": 23,
     "metadata": {},
     "output_type": "execute_result"
    }
   ],
   "source": [
    "ts.resample('10T').ohlc()"
   ]
  },
  {
   "cell_type": "markdown",
   "metadata": {},
   "source": [
    "### Up-Sampling"
   ]
  },
  {
   "cell_type": "markdown",
   "metadata": {},
   "source": [
    "업-샘플링의 경우에는 실제로 존재하지 않는 데이터를 만들어야 한다. \n",
    "- ffill: 앞에서 나온 데이터를 뒤에서 그대로 쓰는 forward filling 방식\n",
    "- bfill: 뒤에서 나올 데이터를 앞에서 미리 쓰는 backward filling 방식"
   ]
  },
  {
   "cell_type": "code",
   "execution_count": 24,
   "metadata": {
    "scrolled": true
   },
   "outputs": [
    {
     "data": {
      "text/plain": [
       "2018-01-01 00:00:00   -1.173123\n",
       "2018-01-01 00:00:30   -1.173123\n",
       "2018-01-01 00:01:00    1.943621\n",
       "2018-01-01 00:01:30    1.943621\n",
       "2018-01-01 00:02:00   -0.413619\n",
       "2018-01-01 00:02:30   -0.413619\n",
       "2018-01-01 00:03:00   -0.747455\n",
       "2018-01-01 00:03:30   -0.747455\n",
       "2018-01-01 00:04:00    1.922942\n",
       "2018-01-01 00:04:30    1.922942\n",
       "2018-01-01 00:05:00    1.480515\n",
       "2018-01-01 00:05:30    1.480515\n",
       "2018-01-01 00:06:00    1.867559\n",
       "2018-01-01 00:06:30    1.867559\n",
       "2018-01-01 00:07:00    0.906045\n",
       "2018-01-01 00:07:30    0.906045\n",
       "2018-01-01 00:08:00   -0.861226\n",
       "2018-01-01 00:08:30   -0.861226\n",
       "2018-01-01 00:09:00    1.910065\n",
       "2018-01-01 00:09:30    1.910065\n",
       "Freq: 30S, dtype: float64"
      ]
     },
     "execution_count": 24,
     "metadata": {},
     "output_type": "execute_result"
    }
   ],
   "source": [
    "ts.resample('30s').ffill().head(20)"
   ]
  },
  {
   "cell_type": "code",
   "execution_count": 25,
   "metadata": {
    "scrolled": true
   },
   "outputs": [
    {
     "data": {
      "text/plain": [
       "2018-01-01 00:00:00   -1.173123\n",
       "2018-01-01 00:00:30    1.943621\n",
       "2018-01-01 00:01:00    1.943621\n",
       "2018-01-01 00:01:30   -0.413619\n",
       "2018-01-01 00:02:00   -0.413619\n",
       "2018-01-01 00:02:30   -0.747455\n",
       "2018-01-01 00:03:00   -0.747455\n",
       "2018-01-01 00:03:30    1.922942\n",
       "2018-01-01 00:04:00    1.922942\n",
       "2018-01-01 00:04:30    1.480515\n",
       "2018-01-01 00:05:00    1.480515\n",
       "2018-01-01 00:05:30    1.867559\n",
       "2018-01-01 00:06:00    1.867559\n",
       "2018-01-01 00:06:30    0.906045\n",
       "2018-01-01 00:07:00    0.906045\n",
       "2018-01-01 00:07:30   -0.861226\n",
       "2018-01-01 00:08:00   -0.861226\n",
       "2018-01-01 00:08:30    1.910065\n",
       "2018-01-01 00:09:00    1.910065\n",
       "2018-01-01 00:09:30   -0.268003\n",
       "Freq: 30S, dtype: float64"
      ]
     },
     "execution_count": 25,
     "metadata": {},
     "output_type": "execute_result"
    }
   ],
   "source": [
    "ts.resample('30s').bfill().head(20)"
   ]
  },
  {
   "cell_type": "markdown",
   "metadata": {},
   "source": [
    "결국 차이는 처음 데이터부터 중복인가 그 다음 데이터부터 중복인가의 차이."
   ]
  },
  {
   "cell_type": "markdown",
   "metadata": {},
   "source": [
    "# dt 접근자\n",
    "datetime 자료형 시리즈에는 dt 접근자가 있어 datetime 자료형이 가진 몇가지 유용한 속성과 메서드를 사용"
   ]
  },
  {
   "cell_type": "code",
   "execution_count": 26,
   "metadata": {},
   "outputs": [
    {
     "data": {
      "text/plain": [
       "0    2020-12-25\n",
       "1    2020-12-26\n",
       "2    2020-12-27\n",
       "3    2020-12-28\n",
       "4    2020-12-29\n",
       "        ...    \n",
       "95   2021-03-30\n",
       "96   2021-03-31\n",
       "97   2021-04-01\n",
       "98   2021-04-02\n",
       "99   2021-04-03\n",
       "Length: 100, dtype: datetime64[ns]"
      ]
     },
     "execution_count": 26,
     "metadata": {},
     "output_type": "execute_result"
    }
   ],
   "source": [
    "s = pd.Series(pd.date_range(\"2020-12-25\", periods=100, freq=\"D\"))\n",
    "s"
   ]
  },
  {
   "cell_type": "code",
   "execution_count": 27,
   "metadata": {},
   "outputs": [
    {
     "data": {
      "text/plain": [
       "0     2020\n",
       "1     2020\n",
       "2     2020\n",
       "3     2020\n",
       "4     2020\n",
       "      ... \n",
       "95    2021\n",
       "96    2021\n",
       "97    2021\n",
       "98    2021\n",
       "99    2021\n",
       "Length: 100, dtype: int64"
      ]
     },
     "execution_count": 27,
     "metadata": {},
     "output_type": "execute_result"
    }
   ],
   "source": [
    "s.dt.year"
   ]
  },
  {
   "cell_type": "code",
   "execution_count": 28,
   "metadata": {},
   "outputs": [
    {
     "data": {
      "text/plain": [
       "0     4\n",
       "1     5\n",
       "2     6\n",
       "3     0\n",
       "4     1\n",
       "     ..\n",
       "95    1\n",
       "96    2\n",
       "97    3\n",
       "98    4\n",
       "99    5\n",
       "Length: 100, dtype: int64"
      ]
     },
     "execution_count": 28,
     "metadata": {},
     "output_type": "execute_result"
    }
   ],
   "source": [
    "s.dt.weekday   # 몇주차인지 표기"
   ]
  },
  {
   "cell_type": "code",
   "execution_count": 30,
   "metadata": {},
   "outputs": [
    {
     "data": {
      "text/plain": [
       "0     25\n",
       "1     26\n",
       "2     27\n",
       "3     28\n",
       "4     29\n",
       "      ..\n",
       "95    30\n",
       "96    31\n",
       "97     1\n",
       "98     2\n",
       "99     3\n",
       "Length: 100, dtype: int64"
      ]
     },
     "execution_count": 30,
     "metadata": {},
     "output_type": "execute_result"
    }
   ],
   "source": [
    "s.dt.day"
   ]
  },
  {
   "cell_type": "code",
   "execution_count": 29,
   "metadata": {},
   "outputs": [
    {
     "data": {
      "text/plain": [
       "0     2020년 12월 25일\n",
       "1     2020년 12월 26일\n",
       "2     2020년 12월 27일\n",
       "3     2020년 12월 28일\n",
       "4     2020년 12월 29일\n",
       "          ...      \n",
       "95    2021년 03월 30일\n",
       "96    2021년 03월 31일\n",
       "97    2021년 04월 01일\n",
       "98    2021년 04월 02일\n",
       "99    2021년 04월 03일\n",
       "Length: 100, dtype: object"
      ]
     },
     "execution_count": 29,
     "metadata": {},
     "output_type": "execute_result"
    }
   ],
   "source": [
    "s.dt.strftime(\"%Y년 %m월 %d일\")"
   ]
  },
  {
   "cell_type": "markdown",
   "metadata": {},
   "source": [
    "문자열을 만드는 것도 가능"
   ]
  }
 ],
 "metadata": {
  "kernelspec": {
   "display_name": "Python 3",
   "language": "python",
   "name": "python3"
  },
  "language_info": {
   "codemirror_mode": {
    "name": "ipython",
    "version": 3
   },
   "file_extension": ".py",
   "mimetype": "text/x-python",
   "name": "python",
   "nbconvert_exporter": "python",
   "pygments_lexer": "ipython3",
   "version": "3.8.3"
  }
 },
 "nbformat": 4,
 "nbformat_minor": 4
}

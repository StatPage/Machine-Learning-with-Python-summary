{
 "cells": [
  {
   "cell_type": "markdown",
   "metadata": {},
   "source": [
    "### 다항 특성과 교차항 특성 생성하기.\n",
    "다항 특성과 교차항 특성을 만들고 싶다. → 사이킷런의 PolynomialFeatures 사용.\n",
    "- interaction_only를 True로 지정하면 교차항 특성만 만들 수 있다.\n",
    "- 특성과 타깃 사이에 비선형 관계가 있다는 가정을 추가할 때 사용.\n",
    "- 특성의 효과가 다른 특성에 의존하는 경우 개별 특성을 곱한 교차항을 특성에 추가해 인코딩할 수 있다.\n",
    "- include_bias의 기본값은 True이다. True의 경우 상수항인 1을 추가."
   ]
  },
  {
   "cell_type": "code",
   "execution_count": 1,
   "metadata": {
    "scrolled": true
   },
   "outputs": [
    {
     "data": {
      "text/plain": [
       "array([[2., 3., 4., 6., 9.],\n",
       "       [2., 3., 4., 6., 9.],\n",
       "       [2., 3., 4., 6., 9.]])"
      ]
     },
     "execution_count": 1,
     "metadata": {},
     "output_type": "execute_result"
    }
   ],
   "source": [
    "import numpy as np\n",
    "from sklearn.preprocessing import PolynomialFeatures\n",
    "\n",
    "features = np.array([[2, 3],\n",
    "                    [2, 3],\n",
    "                    [2, 3]])\n",
    "\n",
    "# 1. 객체 생성\n",
    "polynomial_interaction = PolynomialFeatures(degree=2, include_bias=False)\n",
    "\n",
    "# 2, fit_transform method 사용.\n",
    "polynomial_interaction.fit_transform(features)"
   ]
  },
  {
   "cell_type": "code",
   "execution_count": 4,
   "metadata": {
    "scrolled": true
   },
   "outputs": [
    {
     "data": {
      "text/plain": [
       "array([[2., 3., 6.],\n",
       "       [2., 3., 6.],\n",
       "       [2., 3., 6.]])"
      ]
     },
     "execution_count": 4,
     "metadata": {},
     "output_type": "execute_result"
    }
   ],
   "source": [
    "only_interaction = PolynomialFeatures(degree=2, include_bias=False, interaction_only=True)\n",
    "\n",
    "only_interaction.fit_transform(features)"
   ]
  },
  {
   "cell_type": "code",
   "execution_count": 5,
   "metadata": {
    "scrolled": true
   },
   "outputs": [
    {
     "data": {
      "text/plain": [
       "array([[1., 2., 3., 4., 6., 9.],\n",
       "       [1., 2., 3., 4., 6., 9.],\n",
       "       [1., 2., 3., 4., 6., 9.]])"
      ]
     },
     "execution_count": 5,
     "metadata": {},
     "output_type": "execute_result"
    }
   ],
   "source": [
    "polynomial_interaction_withBias = PolynomialFeatures(degree=2)\n",
    "\n",
    "polynomial_interaction_withBias.fit_transform(features)"
   ]
  },
  {
   "cell_type": "markdown",
   "metadata": {},
   "source": [
    "### 특성 변환하기\n",
    "\n",
    "하나 이상의 특성에 사용자 정의 변환 적용하기. → 사이킷 런의 FuctionTransformer 사용.\n",
    "- pandas의 apply method로도 변환을 수행할 수 있다.\n",
    "- FunctionTransformer의 validate 매개변수가 True이면 2차원 배열만 변환. False이면 1차원 배열도 적용 가능.\n",
    "- 사이킷런의 Columntransformer는 열마다 다른 변환을 적용 가능."
   ]
  },
  {
   "cell_type": "code",
   "execution_count": 8,
   "metadata": {
    "scrolled": true
   },
   "outputs": [
    {
     "data": {
      "text/plain": [
       "array([[17, 18],\n",
       "       [17, 18],\n",
       "       [17, 18]])"
      ]
     },
     "execution_count": 8,
     "metadata": {},
     "output_type": "execute_result"
    }
   ],
   "source": [
    "import numpy as np\n",
    "from sklearn.preprocessing import FunctionTransformer\n",
    "\n",
    "featrues = np.array([[2,3],\n",
    "                     [2,3],\n",
    "                     [2,3]])\n",
    "\n",
    "# 1. 함수 정의 \n",
    "def add_ten(x):\n",
    "    return x + 15\n",
    "\n",
    "# 2. 객체 생성\n",
    "ten_transformer = FunctionTransformer(add_ten)\n",
    "\n",
    "# 3. 특성 행렬 변환\n",
    "ten_transformer.transform(features)"
   ]
  },
  {
   "cell_type": "code",
   "execution_count": 9,
   "metadata": {},
   "outputs": [
    {
     "data": {
      "text/html": [
       "<div>\n",
       "<style scoped>\n",
       "    .dataframe tbody tr th:only-of-type {\n",
       "        vertical-align: middle;\n",
       "    }\n",
       "\n",
       "    .dataframe tbody tr th {\n",
       "        vertical-align: top;\n",
       "    }\n",
       "\n",
       "    .dataframe thead th {\n",
       "        text-align: right;\n",
       "    }\n",
       "</style>\n",
       "<table border=\"1\" class=\"dataframe\">\n",
       "  <thead>\n",
       "    <tr style=\"text-align: right;\">\n",
       "      <th></th>\n",
       "      <th>feature_1</th>\n",
       "      <th>feature_2</th>\n",
       "    </tr>\n",
       "  </thead>\n",
       "  <tbody>\n",
       "    <tr>\n",
       "      <th>0</th>\n",
       "      <td>17</td>\n",
       "      <td>18</td>\n",
       "    </tr>\n",
       "    <tr>\n",
       "      <th>1</th>\n",
       "      <td>17</td>\n",
       "      <td>18</td>\n",
       "    </tr>\n",
       "    <tr>\n",
       "      <th>2</th>\n",
       "      <td>17</td>\n",
       "      <td>18</td>\n",
       "    </tr>\n",
       "  </tbody>\n",
       "</table>\n",
       "</div>"
      ],
      "text/plain": [
       "   feature_1  feature_2\n",
       "0         17         18\n",
       "1         17         18\n",
       "2         17         18"
      ]
     },
     "execution_count": 9,
     "metadata": {},
     "output_type": "execute_result"
    }
   ],
   "source": [
    "import pandas as pd\n",
    "\n",
    "# 1, 데이터 프레임 생성.\n",
    "df = pd.DataFrame(features, columns=[\"feature_1\", \"feature_2\"])\n",
    "\n",
    "# 2. 함수 적용\n",
    "df.apply(add_ten)"
   ]
  },
  {
   "cell_type": "code",
   "execution_count": 10,
   "metadata": {
    "scrolled": true
   },
   "outputs": [
    {
     "data": {
      "text/plain": [
       "array([16, 17, 18])"
      ]
     },
     "execution_count": 10,
     "metadata": {},
     "output_type": "execute_result"
    }
   ],
   "source": [
    "ten_transformer2 = FunctionTransformer(add_ten, validate=False)\n",
    "\n",
    "ten_transformer2.transform(np.array([1, 2, 3]))"
   ]
  },
  {
   "cell_type": "code",
   "execution_count": 15,
   "metadata": {},
   "outputs": [
    {
     "data": {
      "text/plain": [
       "array([[ 17, 103],\n",
       "       [ 17, 103],\n",
       "       [ 17, 103]])"
      ]
     },
     "execution_count": 15,
     "metadata": {},
     "output_type": "execute_result"
    }
   ],
   "source": [
    "from sklearn.compose import ColumnTransformer\n",
    "\n",
    "def add_hundred(x):\n",
    "    return x + 100\n",
    "\n",
    "ct = ColumnTransformer([(\"add_ten\", FunctionTransformer(add_ten, validate=True), ['feature_1']),\n",
    "                       (\"add_hundred\", FunctionTransformer(add_hundred, validate=True), [\"feature_2\"])])\n",
    "\n",
    "ct.fit_transform(df)"
   ]
  }
 ],
 "metadata": {
  "kernelspec": {
   "display_name": "Python 3",
   "language": "python",
   "name": "python3"
  },
  "language_info": {
   "codemirror_mode": {
    "name": "ipython",
    "version": 3
   },
   "file_extension": ".py",
   "mimetype": "text/x-python",
   "name": "python",
   "nbconvert_exporter": "python",
   "pygments_lexer": "ipython3",
   "version": "3.8.3"
  }
 },
 "nbformat": 4,
 "nbformat_minor": 4
}

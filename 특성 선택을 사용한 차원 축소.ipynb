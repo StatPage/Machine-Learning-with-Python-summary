{
 "cells": [
  {
   "cell_type": "markdown",
   "metadata": {},
   "source": [
    "특성 선택: 고품질의 정보가 많은 특성은 선택하고 덜 유용한 특성은 버리는 방식\n",
    "- 필터: 통계적인 속성을 조사해 가장 뛰어난 특성을 선택하는 것.\n",
    "- 래퍼: 시행착오를 통해 가장 높은 품질의 예측을 만드는 특성의 부분 조합을 찾는 것.\n",
    "- 임베디드: 알고리즘의 훈련 단계를 확장하거나 일부로 구성해서 가장 좋은 특성의 부분 조합을 선택하는 것."
   ]
  },
  {
   "cell_type": "markdown",
   "metadata": {},
   "source": [
    "## 분산을 기준으로한 특성 선택.\n",
    "분산이 낮은(정보가 거의 없는) 특성을 삭제하고 싶다. -> 기준값보다 높은 분산을 가진 특성을 선택한다."
   ]
  },
  {
   "cell_type": "code",
   "execution_count": 10,
   "metadata": {},
   "outputs": [
    {
     "data": {
      "text/plain": [
       "array([5.1, 1.4, 0.2])"
      ]
     },
     "execution_count": 10,
     "metadata": {},
     "output_type": "execute_result"
    }
   ],
   "source": [
    "from sklearn import datasets\n",
    "from sklearn.feature_selection import VarianceThreshold   # 분산기준설정\n",
    "\n",
    "iris = datasets.load_iris()\n",
    "\n",
    "features = iris.data\n",
    "target = iris.target\n",
    "\n",
    "thresholder = VarianceThreshold(threshold=0.5)\n",
    "\n",
    "features_high_variance = thresholder.fit_transform(features)\n",
    "features_high_variance[0]"
   ]
  },
  {
   "cell_type": "markdown",
   "metadata": {},
   "source": [
    "feature selection을 통해 특성이 하나 감소했다."
   ]
  },
  {
   "cell_type": "markdown",
   "metadata": {},
   "source": [
    "$Var(x) = \\frac{1}{n} \\sum_{i=1}^n{(x_i-\\mu)^2}$  \n",
    "$x$: 특성 벡터, $x_i$: 개별 특성값, $\\mu: 특성의 평균값$"
   ]
  },
  {
   "cell_type": "markdown",
   "metadata": {},
   "source": [
    "주의할 점  \n",
    "1. 분산은 원점에 맞춰진 값이 아니다. 따라서 특성의 단위가 서로 다르면 작동하지 않는다.\n",
    "2. 분산의 기준값을 수동으로 선택하기 때문에 어떤 값이 좋은지 판단할 수 있어야 한다(모델 선택 기법을 통해).\n",
    "3. 특성이 표준화 되어있으면 올바르게 작동하지 않는다. 표준화된 데이터의 분산은 1이기 때문."
   ]
  },
  {
   "cell_type": "code",
   "execution_count": 12,
   "metadata": {
    "scrolled": true
   },
   "outputs": [
    {
     "data": {
      "text/plain": [
       "array([0.68112222, 0.18871289, 3.09550267, 0.57713289])"
      ]
     },
     "execution_count": 12,
     "metadata": {},
     "output_type": "execute_result"
    }
   ],
   "source": [
    "thresholder.variances_"
   ]
  }
 ],
 "metadata": {
  "kernelspec": {
   "display_name": "Python 3",
   "language": "python",
   "name": "python3"
  },
  "language_info": {
   "codemirror_mode": {
    "name": "ipython",
    "version": 3
   },
   "file_extension": ".py",
   "mimetype": "text/x-python",
   "name": "python",
   "nbconvert_exporter": "python",
   "pygments_lexer": "ipython3",
   "version": "3.8.3"
  }
 },
 "nbformat": 4,
 "nbformat_minor": 4
}
